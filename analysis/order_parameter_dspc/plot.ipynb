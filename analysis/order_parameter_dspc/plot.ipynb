{
 "cells": [
  {
   "cell_type": "code",
   "execution_count": 4,
   "id": "formed-johnson",
   "metadata": {},
   "outputs": [],
   "source": [
    "import numpy as np\n",
    "import math  as m\n",
    "import matplotlib.pyplot as plt\n",
    "import matplotlib as mpl\n",
    "import numpy as np\n",
    "from matplotlib import rc\n",
    "rc('font',**{'family':'sans-serif','sans-serif':['Helvetica']})\n",
    "rc('text', usetex=True)\n",
    "mpl.rcParams['axes.linewidth'] = 2\n",
    "mpl.rcParams.update({'figure.autolayout': True})\n"
   ]
  },
  {
   "cell_type": "code",
   "execution_count": 5,
   "id": "stock-compression",
   "metadata": {},
   "outputs": [],
   "source": [
    "t1   = []\n",
    "t2   = []\n",
    "t3   = []\n",
    "t4   = []\n",
    "t5   = []\n",
    "\n",
    "for i in range(1, 4):\n",
    "    INPUT1 = open(\"../\" + str(i) + \"/order_parameter_10.txt\"   , \"r\")\n",
    "\n",
    "    lines1     = INPUT1.readlines()\n",
    "    \n",
    "    for i in range(0, int(len(lines1))):\n",
    "        line = lines1[i].split()\n",
    "        t1.append(float(line[0]))\n",
    "\n",
    "    \n",
    "for i in range(1, 4):\n",
    "    INPUT1 = open(\"../\" + str(i) + \"/order_parameter_20.txt\"   , \"r\")\n",
    "\n",
    "    lines1     = INPUT1.readlines()\n",
    "    \n",
    "    for i in range(0, int(len(lines1))):\n",
    "        line = lines1[i].split()\n",
    "        t2.append(float(line[0]))\n",
    "\n",
    "for i in range(1, 4):\n",
    "    INPUT1 = open(\"../\" + str(i) + \"/order_parameter_30.txt\"   , \"r\")\n",
    "\n",
    "    lines1     = INPUT1.readlines()\n",
    "    \n",
    "    for i in range(0, int(len(lines1))):\n",
    "        line = lines1[i].split()\n",
    "        t3.append(float(line[0]))\n",
    "\n",
    "for i in range(1, 4):\n",
    "    INPUT1 = open(\"../\" + str(i) + \"/order_parameter_40.txt\"   , \"r\")\n",
    "\n",
    "    lines1     = INPUT1.readlines()\n",
    "    \n",
    "    for i in range(0, int(len(lines1))):\n",
    "        line = lines1[i].split()\n",
    "        t4.append(float(line[0]))\n",
    "\n",
    "for i in range(1, 4):\n",
    "    INPUT1 = open(\"../\" + str(i) + \"/order_parameter_50.txt\"   , \"r\")\n",
    "\n",
    "    lines1     = INPUT1.readlines()\n",
    "    \n",
    "    for i in range(0, int(len(lines1))):\n",
    "        line = lines1[i].split()\n",
    "        t5.append(float(line[0]))\n",
    "\n"
   ]
  },
  {
   "cell_type": "code",
   "execution_count": 6,
   "id": "subtle-wilderness",
   "metadata": {},
   "outputs": [
    {
     "name": "stdout",
     "output_type": "stream",
     "text": [
      "0.8190356212072819\n",
      "0.7894308862240754\n",
      "0.7770648950401594\n",
      "0.7013387333962696\n",
      "0.6690539423789453\n",
      "-------------------\n"
     ]
    },
    {
     "data": {
      "image/png": "[encoded data removed]",
      "text/plain": [
       "<Figure size 432x288 with 1 Axes>"
      ]
     },
     "metadata": {
      "needs_background": "light"
     },
     "output_type": "display_data"
    }
   ],
   "source": [
    "plt.errorbar(10, 0.5 * np.mean(t1), yerr= 0.5 * np.std(t1), uplims = 0.5 * (np.mean(t1) + np.std(t1)), lolims = 0.5 * (np.mean(t1) - np.std(t1)),\n",
    "             marker = 'o', markersize=20, mfc = 'orange', mec = 'darkorange', mew = 2,  label='$\\mathrm{DSPC}$', color = 'darkorange')\n",
    "plt.errorbar(20, 0.5 * np.mean(t2), yerr= 0.5 * np.std(t2), uplims = 0.5 * (np.mean(t2) + np.std(t2)), lolims = 0.5 * (np.mean(t2) - np.std(t2)),\n",
    "             marker = 'o', markersize=20, mfc = 'orange', mec = 'darkorange', mew = 2)\n",
    "plt.errorbar(30, 0.5 * np.mean(t3), yerr= 0.5 * np.std(t3), uplims = 0.5 * (np.mean(t3) + np.std(t3)), lolims = 0.5 * (np.mean(t3) - np.std(t3)),\n",
    "             marker = 'o', markersize=20, mfc = 'orange', mec = 'darkorange', mew = 2)\n",
    "plt.errorbar(40, 0.5 * np.mean(t4), yerr= 0.5 * np.std(t4), uplims = 0.5 * (np.mean(t4) + np.std(t4)), lolims = 0.5 * (np.mean(t4) - np.std(t4)),\n",
    "             marker = 'o', markersize=20, mfc = 'orange', mec = 'darkorange', mew = 2)\n",
    "plt.errorbar(50, 0.5 * np.mean(t5), yerr= 0.5 * np.std(t5), uplims = 0.5 * (np.mean(t5) + np.std(t5)), lolims = 0.5 * (np.mean(t5) - np.std(t5)),\n",
    "             marker = 'o', markersize=20, mfc = 'orange', mec = 'darkorange', mew = 2)\n",
    "\n",
    "print (0.5 * np.mean(t1))\n",
    "print (0.5 * np.mean(t2))\n",
    "print (0.5 * np.mean(t3))\n",
    "print (0.5 * np.mean(t4))\n",
    "print (0.5 * np.mean(t5))\n",
    "print ('-------------------')\n",
    "\n",
    "\n",
    "#     #y = mlab.normpdf(bins, mu, sigma)\n",
    "#     print (i)\n",
    "plt.ylabel(r'$\\textrm{Order Parameter}$', fontsize=25)\n",
    "plt.xlabel(r'$\\textrm{Lipid-H} \\ \\%$',fontsize=25)\n",
    "plt.xticks(fontsize=25)\n",
    "plt.yticks(fontsize=25)\n",
    "plt.xlim((5, 55))\n",
    "plt.ylim((0.62, 0.85))\n",
    "plt.yticks(np.arange(0.65, 0.86, step=0.05))\n",
    "#plt.xticks(np.arange(10, 51, step=10))\n",
    "plt.legend(fontsize=15)\n",
    "plt.savefig(\"order_parameter_SM86_DSPC.png\")\n",
    "plt.savefig(\"order_parameter_SM86_DSPC.pdf\")\n"
   ]
  },
  {
   "cell_type": "code",
   "execution_count": null,
   "id": "african-singles",
   "metadata": {},
   "outputs": [],
   "source": []
  },
  {
   "cell_type": "code",
   "execution_count": null,
   "id": "going-newsletter",
   "metadata": {},
   "outputs": [],
   "source": []
  }
 ],
 "metadata": {
  "kernelspec": {
   "display_name": "Python 3",
   "language": "python",
   "name": "python3"
  },
  "language_info": {
   "codemirror_mode": {
    "name": "ipython",
    "version": 3
   },
   "file_extension": ".py",
   "mimetype": "text/x-python",
   "name": "python",
   "nbconvert_exporter": "python",
   "pygments_lexer": "ipython3",
   "version": "3.8.5"
  }
 },
 "nbformat": 4,
 "nbformat_minor": 5
}
