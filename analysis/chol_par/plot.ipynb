{
 "cells": [
  {
   "cell_type": "code",
   "execution_count": 2,
   "id": "forbidden-habitat",
   "metadata": {},
   "outputs": [],
   "source": [
    "import numpy as np\n",
    "import math  as m\n",
    "import matplotlib.pyplot as plt\n",
    "import matplotlib as mpl\n",
    "import numpy as np\n",
    "from matplotlib import rc\n",
    "rc('font',**{'family':'sans-serif','sans-serif':['Helvetica']})\n",
    "rc('text', usetex=True)\n",
    "mpl.rcParams['axes.linewidth'] = 2\n",
    "mpl.rcParams.update({'figure.autolayout': True})\n",
    "\n",
    "INPUT1    =  open(\"chol_par_10.txt\" , \"r\")\n",
    "INPUT2    =  open(\"chol_par_20.txt\" , \"r\")\n",
    "INPUT3    =  open(\"chol_par_30.txt\" , \"r\")\n",
    "INPUT4    =  open(\"chol_par_40.txt\" , \"r\")\n",
    "INPUT5    =  open(\"chol_par_50.txt\" , \"r\")\n"
   ]
  },
  {
   "cell_type": "code",
   "execution_count": 3,
   "id": "modern-leader",
   "metadata": {},
   "outputs": [
    {
     "name": "stdout",
     "output_type": "stream",
     "text": [
      "0.0037224725955955894\n",
      "0.020364041642885758\n"
     ]
    }
   ],
   "source": [
    "lines1     = INPUT1.readlines()\n",
    "lines2     = INPUT2.readlines()\n",
    "lines3     = INPUT3.readlines()\n",
    "lines4     = INPUT4.readlines()\n",
    "lines5     = INPUT5.readlines()\n",
    "\n",
    "t1  = np.array([])\n",
    "t2  = np.array([])\n",
    "t3  = np.array([])\n",
    "t4  = np.array([])\n",
    "t5  = np.array([])\n",
    "\n",
    "skip = 0.5\n",
    "for i in range(int(len(lines1) * skip), int(len(lines1))):\n",
    "    line = lines1[i].split()\n",
    "    t1    = (np.append(t1, (1 - float(line[1])) / float(line[1])))\n",
    "\n",
    "for i in range(int(len(lines2) * skip), int(len(lines2))):\n",
    "    line = lines2[i].split()\n",
    "    t2    = (np.append(t2, (1 - float(line[1])) / float(line[1])))\n",
    "\n",
    "for i in range(int(len(lines3) * skip), int(len(lines3))):\n",
    "    line = lines3[i].split()\n",
    "    t3    = (np.append(t3, (1 - float(line[1])) / float(line[1])))\n",
    "\n",
    "for i in range(int(len(lines4) * skip), int(len(lines4))):\n",
    "    line = lines4[i].split()\n",
    "    t4    = (np.append(t4, (1 - float(line[1])) / float(line[1])))\n",
    "\n",
    "for i in range(int(len(lines5) * skip), int(len(lines5))):\n",
    "    line = lines5[i].split()\n",
    "    t5    = (np.append(t5, (1 - float(line[1])) / float(line[1])))\n",
    "\n",
    "print (np.mean(t1))\n",
    "print (np.mean(t5))\n"
   ]
  },
  {
   "cell_type": "code",
   "execution_count": 4,
   "id": "native-daniel",
   "metadata": {},
   "outputs": [
    {
     "name": "stdout",
     "output_type": "stream",
     "text": [
      "0.0037224725955955894\n",
      "0.00016164881794301746\n",
      "0.00955355271500067\n",
      "0.011735878419765984\n",
      "0.020364041642885758\n",
      "-------------------\n",
      "0.001526115724265128\n",
      "0.0007960281108746027\n",
      "0.004016499532202153\n",
      "0.004983922201456453\n",
      "0.00801607255258598\n",
      "-------------------\n"
     ]
    },
    {
     "data": {
      "image/png": "[encoded data removed]",
      "text/plain": [
       "<Figure size 432x288 with 1 Axes>"
      ]
     },
     "metadata": {
      "needs_background": "light"
     },
     "output_type": "display_data"
    }
   ],
   "source": [
    "        \n",
    "# plt.errorbar(10, 0.5 * np.mean(t1), yerr= 0.5 * np.std(t1), uplims = 0.5 * (np.mean(t1) + np.std(t1)), lolims = 0.5 * (np.mean(t1) - np.std(t1)),\n",
    "#              marker = 'o', markersize=20, mfc = 'lightgreen', mec = 'green', mew = 2,  label='$\\mathrm{Overall}$')\n",
    "# plt.errorbar(20, 0.5 * np.mean(t2), yerr= 0.5 * np.std(t2), uplims = 0.5 * (np.mean(t2) + np.std(t2)), lolims = 0.5 * (np.mean(t2) - np.std(t2)),\n",
    "#              marker = 'o', markersize=20, mfc = 'lightgreen', mec = 'green', mew = 2)\n",
    "# plt.errorbar(30, 0.5 * np.mean(t3), yerr= 0.5 * np.std(t3), uplims = 0.5 * (np.mean(t3) + np.std(t3)), lolims = 0.5 * (np.mean(t3) - np.std(t3)),\n",
    "#              marker = 'o', markersize=20, mfc = 'lightgreen', mec = 'green', mew = 2)\n",
    "# plt.errorbar(40, 0.5 * np.mean(t4), yerr= 0.5 * np.std(t4), uplims = 0.5 * (np.mean(t4) + np.std(t4)), lolims = 0.5 * (np.mean(t4) - np.std(t4)),\n",
    "#              marker = 'o', markersize=20, mfc = 'lightgreen', mec = 'green', mew = 2)\n",
    "# plt.errorbar(50, 0.5 * np.mean(t5), yerr= 0.5 * np.std(t5), uplims = 0.5 * (np.mean(t5) + np.std(t5)), lolims = 0.5 * (np.mean(t5) - np.std(t5)),\n",
    "#              marker = 'o', markersize=20, mfc = 'lightgreen', mec = 'green', mew = 2)\n",
    "plt.bar(10, np.mean(t1), color ='lime',width = 5, edgecolor = 'green', linewidth = 3, yerr = np.std(t1), capsize = 5)\n",
    "plt.bar(20, np.mean(t2), color ='lime',width = 5, edgecolor = 'green', linewidth = 3, yerr = np.std(t2), capsize = 5)\n",
    "plt.bar(30, np.mean(t3), color ='lime',width = 5, edgecolor = 'green', linewidth = 3, yerr = np.std(t3), capsize = 5)\n",
    "plt.bar(40, np.mean(t4), color ='lime',width = 5, edgecolor = 'green', linewidth = 3, yerr = np.std(t4), capsize = 5)\n",
    "plt.bar(50, np.mean(t5), color ='lime',width = 5, edgecolor = 'green', linewidth = 3, yerr = np.std(t5), capsize = 5)\n",
    "\n",
    "print (np.mean(t1))\n",
    "print (np.mean(t2))\n",
    "print (np.mean(t3))\n",
    "print (np.mean(t4))\n",
    "print (np.mean(t5))\n",
    "print ('-------------------')\n",
    "print (np.std(t1))\n",
    "print (np.std(t2))\n",
    "print (np.std(t3))\n",
    "print (np.std(t4))\n",
    "print (np.std(t5))\n",
    "print ('-------------------')\n",
    "\n",
    "plt.ylabel('$ \\mathrm{Cholesterol \\ Partitioning}$', fontsize=25)\n",
    "plt.xlabel('$\\mathrm{SM86 \\ \\%}$',fontsize=25)\n",
    "plt.xticks(fontsize=25)\n",
    "plt.yticks(fontsize=25)\n",
    "plt.xlim((5, 55))\n",
    "plt.ylim((-0.000001, 0.0151))\n",
    "plt.yticks(np.arange(0, 0.0401, step=0.01))\n",
    "#plt.xticks(np.arange(10, 51, step=10))\n",
    "#plt.legend(fontsize=15)\n",
    "plt.savefig(\"cholestrol_partitioning_SM86.png\")\n",
    "plt.savefig(\"cholestrol_partitioning_SM86.pdf\")\n",
    "\n",
    "# plt.close()"
   ]
  },
  {
   "cell_type": "code",
   "execution_count": null,
   "id": "latin-dinner",
   "metadata": {},
   "outputs": [],
   "source": []
  },
  {
   "cell_type": "code",
   "execution_count": null,
   "id": "integral-saskatchewan",
   "metadata": {},
   "outputs": [],
   "source": []
  }
 ],
 "metadata": {
  "kernelspec": {
   "display_name": "Python 3 (ipykernel)",
   "language": "python",
   "name": "python3"
  },
  "language_info": {
   "codemirror_mode": {
    "name": "ipython",
    "version": 3
   },
   "file_extension": ".py",
   "mimetype": "text/x-python",
   "name": "python",
   "nbconvert_exporter": "python",
   "pygments_lexer": "ipython3",
   "version": "3.10.6"
  }
 },
 "nbformat": 4,
 "nbformat_minor": 5
}
