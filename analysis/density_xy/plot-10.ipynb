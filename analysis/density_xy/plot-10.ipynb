{
 "cells": [
  {
   "cell_type": "code",
   "execution_count": 1,
   "id": "a4762c17",
   "metadata": {},
   "outputs": [],
   "source": [
    "import numpy as np\n",
    "import math  as m\n",
    "import matplotlib.pyplot as plt\n",
    "import matplotlib as mpl\n",
    "import numpy as np\n",
    "from matplotlib import rc\n",
    "\n",
    "rc('font',**{'family':'sans-serif','sans-serif':['Helvetica']})\n",
    "rc('text', usetex=True)\n",
    "mpl.rcParams['axes.linewidth'] = 2\n",
    "mpl.rcParams.update({'figure.autolayout': True})\n",
    "\n",
    "INPUT1   =  open(\"density-u0.txt\" , \"r\")\n",
    "INPUT2   =  open(\"density-l0.txt\" , \"r\")"
   ]
  },
  {
   "cell_type": "code",
   "execution_count": 2,
   "id": "04510fe1",
   "metadata": {},
   "outputs": [],
   "source": [
    "lines1 = INPUT1.readlines()\n",
    "lines2 = INPUT2.readlines()\n",
    "r1    = np.zeros((len(lines1) + 2, 3))\n",
    "r2    = np.zeros((len(lines2) + 2, 3))\n",
    "\n",
    "for i in range(0, int(len(lines1))):\n",
    "    line = lines1[i].split()\n",
    "    r1[i][0]   = float(line[0])\n",
    "    r1[i][1]   = float(line[1])\n",
    "    r1[i][2]   = float(line[2])\n",
    "\n",
    "for i in range(0, int(len(lines2))):\n",
    "    line = lines2[i].split()\n",
    "    r2[i][0]   = float(line[0])\n",
    "    r2[i][1]   = float(line[1])\n",
    "    r2[i][2]   = float(line[2])\n",
    "\n",
    "r1[len(lines1)][0]     = -100\n",
    "r1[len(lines1)][1]     = -100\n",
    "r1[len(lines1) + 1][0] = 100\n",
    "r1[len(lines1) + 1][1] = 100\n",
    "r2[len(lines2)][0]     = -100\n",
    "r2[len(lines2)][1]     = -100\n",
    "r2[len(lines2) + 1][0] = 100\n",
    "r2[len(lines2) + 1][1] = 100"
   ]
  },
  {
   "cell_type": "code",
   "execution_count": 3,
   "id": "5896dbe4",
   "metadata": {},
   "outputs": [],
   "source": [
    "bin_size = 60\n",
    "hist1, xedges1, yedges1 = np.histogram2d(r1[:,0], r1[:,1], bins = bin_size, density = True)\n",
    "hist2, xedges2, yedges2 = np.histogram2d(r2[:,0], r2[:,1], bins = bin_size, density = True)\n",
    "\n",
    "c_range = np.arange(0, np.max(hist1), np.max(hist1) * 0.1)"
   ]
  },
  {
   "cell_type": "code",
   "execution_count": 4,
   "id": "6e086cc2",
   "metadata": {},
   "outputs": [
    {
     "data": {
      "image/png": "[encoded data removed]",
      "text/plain": [
       "<Figure size 432x288 with 2 Axes>"
      ]
     },
     "metadata": {
      "needs_background": "light"
     },
     "output_type": "display_data"
    }
   ],
   "source": [
    "\n",
    "plt.pcolor(xedges1[0:bin_size], yedges1[0:bin_size], hist1,cmap = plt.cm.YlGnBu,vmin=0.0, vmax=0.0003) #levels = c_range, cmap = plt.cm.YlGnBu)#,vmin=0.0, vmax=0.0007) #nipy_spectral)\n",
    "C = plt.colorbar()\n",
    "plt.xlabel('$x \\ (\\mathrm{\\AA})$',fontsize=25)\n",
    "plt.ylabel('$y \\ (\\mathrm{\\AA})$',fontsize=25)\n",
    "plt.xticks(fontsize=25)\n",
    "plt.yticks(fontsize=25)\n",
    "plt.ylim((-70, 70))\n",
    "plt.xlim((-70, 70))\n",
    "C.ax.tick_params(labelsize = 25)\n",
    "plt.yticks(np.arange(-60, 60.1, step=30))\n",
    "plt.xticks(np.arange(-60, 60.1, step=30))\n",
    "#plt.legend(fontsize=15)\n",
    "#C.set_ticks(np.arange(0, np.max(hist1), np.max(hist1) * 0.5))\n",
    "\n",
    "plt.savefig(\"density_u_10-1.pdf\",dpi=1000)\n",
    "plt.savefig(\"density_u_10-1.png\",dpi=1000)"
   ]
  },
  {
   "cell_type": "code",
   "execution_count": 5,
   "id": "ac88f974-d1ba-4caf-882c-e8d3c7a8542e",
   "metadata": {},
   "outputs": [
    {
     "data": {
      "image/png": "[encoded data removed]",
      "text/plain": [
       "<Figure size 432x288 with 2 Axes>"
      ]
     },
     "metadata": {
      "needs_background": "light"
     },
     "output_type": "display_data"
    }
   ],
   "source": [
    "plt.pcolor(xedges1[0:bin_size], yedges1[0:bin_size], hist2,cmap = plt.cm.YlGnBu,vmin=0.0, vmax=0.0003) #levels = c_range, cmap = plt.cm.YlGnBu)#,vmin=0.0, vmax=0.0007) #nipy_spectral)\n",
    "C = plt.colorbar()\n",
    "plt.xlabel('$x \\ (\\mathrm{\\AA})$',fontsize=25)\n",
    "plt.ylabel('$y \\ (\\mathrm{\\AA})$',fontsize=25)\n",
    "plt.xticks(fontsize=25)\n",
    "plt.yticks(fontsize=25)\n",
    "plt.ylim((-70, 70))\n",
    "plt.xlim((-70, 70))\n",
    "C.ax.tick_params(labelsize = 25)\n",
    "plt.yticks(np.arange(-60, 60.1, step=30))\n",
    "plt.xticks(np.arange(-60, 60.1, step=30))\n",
    "#plt.legend(fontsize=15)\n",
    "#C.set_ticks(np.arange(0, np.max(hist1), np.max(hist1) * 0.5))\n",
    "\n",
    "plt.savefig(\"density_l_10-1.pdf\",dpi=1000)\n",
    "plt.savefig(\"density_l_10-1.png\",dpi=1000)"
   ]
  },
  {
   "cell_type": "code",
   "execution_count": null,
   "id": "1a79be66",
   "metadata": {},
   "outputs": [],
   "source": []
  },
  {
   "cell_type": "code",
   "execution_count": null,
   "id": "835c7d5f",
   "metadata": {},
   "outputs": [],
   "source": []
  },
  {
   "cell_type": "code",
   "execution_count": null,
   "id": "825e763d",
   "metadata": {},
   "outputs": [],
   "source": []
  }
 ],
 "metadata": {
  "kernelspec": {
   "display_name": "Python 3 (ipykernel)",
   "language": "python",
   "name": "python3"
  },
  "language_info": {
   "codemirror_mode": {
    "name": "ipython",
    "version": 3
   },
   "file_extension": ".py",
   "mimetype": "text/x-python",
   "name": "python",
   "nbconvert_exporter": "python",
   "pygments_lexer": "ipython3",
   "version": "3.9.7"
  }
 },
 "nbformat": 4,
 "nbformat_minor": 5
}
